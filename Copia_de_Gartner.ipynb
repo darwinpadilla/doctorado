{
  "nbformat": 4,
  "nbformat_minor": 0,
  "metadata": {
    "colab": {
      "name": "Copia de Gartner.ipynb",
      "provenance": [],
      "collapsed_sections": [],
      "authorship_tag": "ABX9TyNUqHBjHsAW3Xk20XsDbw0x",
      "include_colab_link": true
    },
    "kernelspec": {
      "name": "python3",
      "display_name": "Python 3"
    },
    "language_info": {
      "name": "python"
    }
  },
  "cells": [
    {
      "cell_type": "markdown",
      "metadata": {
        "id": "view-in-github",
        "colab_type": "text"
      },
      "source": [
        "<a href=\"https://colab.research.google.com/github/darwinpadilla/doctorado/blob/main/Copia_de_Gartner.ipynb\" target=\"_parent\"><img src=\"https://colab.research.google.com/assets/colab-badge.svg\" alt=\"Open In Colab\"/></a>"
      ]
    },
    {
      "cell_type": "code",
      "metadata": {
        "id": "XJ4VuUzZQvoH"
      },
      "source": [
        "# GM. 1.1.-Librerías\n",
        "import pickle\n",
        "import pandas as pd\n",
        "import numpy as np\n",
        "import seaborn as sns\n",
        "import matplotlib.pyplot as plt\n",
        "from sklearn.tree import DecisionTreeClassifier\n",
        "from sklearn.ensemble import RandomForestClassifier\n",
        "from sklearn.model_selection import train_test_split\n",
        "from sklearn.model_selection import validation_curve\n",
        "from matplotlib import pyplot as plt\n",
        "from sklearn.metrics import plot_confusion_matrix\n",
        "from sklearn.metrics import classification_report, confusion_matrix\n",
        "from sklearn.metrics import roc_auc_score\n",
        "from sklearn.model_selection import cross_val_predict\n",
        "from sklearn import metrics\n",
        "from sklearn.metrics import roc_curve\n",
        "from sklearn.metrics import auc\n",
        "from sklearn.metrics import plot_roc_curve\n",
        "from sklearn.model_selection import StratifiedKFold\n",
        "import xgboost as xgb\n",
        "from sklearn.preprocessing import MinMaxScaler\n",
        "from sklearn import preprocessing\n",
        "from sklearn.ensemble import AdaBoostClassifier\n",
        "from sklearn.svm import SVC\n",
        "from sklearn.preprocessing import LabelEncoder \n",
        "from sklearn.preprocessing import OneHotEncoder\n",
        "from sklearn.compose import ColumnTransformer\n",
        "from imblearn.over_sampling import SMOTE\n",
        "from imblearn.combine import SMOTETomek\n",
        "import seaborn as sns\n",
        "# 1.2.-Configuración general"
      ],
      "execution_count": 5,
      "outputs": []
    },
    {
      "cell_type": "code",
      "metadata": {
        "id": "L03Wodk9SS8Y"
      },
      "source": [
        "import pandas as pd\n",
        "import numpy as np\n",
        "from sklearn.tree import DecisionTreeClassifier\n",
        "\n",
        "pd.set_option(\"display.max_columns\", 50)\n",
        "\n",
        "%matplotlib inline"
      ],
      "execution_count": 6,
      "outputs": []
    },
    {
      "cell_type": "code",
      "metadata": {
        "colab": {
          "base_uri": "https://localhost:8080/"
        },
        "id": "g_HgxALNSVVz",
        "outputId": "70223156-53fd-4bee-d6b1-8f7f9e4cee25"
      },
      "source": [
        "%ls"
      ],
      "execution_count": 7,
      "outputs": [
        {
          "output_type": "stream",
          "text": [
            "garments_worker_productivity.csv  \u001b[0m\u001b[01;34msample_data\u001b[0m/\n"
          ],
          "name": "stdout"
        }
      ]
    },
    {
      "cell_type": "code",
      "metadata": {
        "id": "tHzK84BTSYPh"
      },
      "source": [
        "file_name = \"garments_worker_productivity.csv\"\n",
        "\n",
        "#El método \"read_csv\" nos permite leer un excel\n",
        "dataset = pd.read_csv(file_name)"
      ],
      "execution_count": 8,
      "outputs": []
    },
    {
      "cell_type": "code",
      "metadata": {
        "colab": {
          "base_uri": "https://localhost:8080/"
        },
        "id": "HmAyPNyESaOw",
        "outputId": "7edb268b-6704-4a9d-a645-166b250f8ade"
      },
      "source": [
        "dataset.shape"
      ],
      "execution_count": 9,
      "outputs": [
        {
          "output_type": "execute_result",
          "data": {
            "text/plain": [
              "(1197, 15)"
            ]
          },
          "metadata": {
            "tags": []
          },
          "execution_count": 9
        }
      ]
    },
    {
      "cell_type": "code",
      "metadata": {
        "colab": {
          "base_uri": "https://localhost:8080/",
          "height": 437
        },
        "id": "8D7fT8voScKx",
        "outputId": "8c9f8c7f-6c86-4b4c-911d-49e317b979bb"
      },
      "source": [
        "dataset"
      ],
      "execution_count": 10,
      "outputs": [
        {
          "output_type": "execute_result",
          "data": {
            "text/html": [
              "<div>\n",
              "<style scoped>\n",
              "    .dataframe tbody tr th:only-of-type {\n",
              "        vertical-align: middle;\n",
              "    }\n",
              "\n",
              "    .dataframe tbody tr th {\n",
              "        vertical-align: top;\n",
              "    }\n",
              "\n",
              "    .dataframe thead th {\n",
              "        text-align: right;\n",
              "    }\n",
              "</style>\n",
              "<table border=\"1\" class=\"dataframe\">\n",
              "  <thead>\n",
              "    <tr style=\"text-align: right;\">\n",
              "      <th></th>\n",
              "      <th>date</th>\n",
              "      <th>quarter</th>\n",
              "      <th>department</th>\n",
              "      <th>day</th>\n",
              "      <th>team</th>\n",
              "      <th>targeted_productivity</th>\n",
              "      <th>smv</th>\n",
              "      <th>wip</th>\n",
              "      <th>over_time</th>\n",
              "      <th>incentive</th>\n",
              "      <th>idle_time</th>\n",
              "      <th>idle_men</th>\n",
              "      <th>no_of_style_change</th>\n",
              "      <th>no_of_workers</th>\n",
              "      <th>actual_productivity</th>\n",
              "    </tr>\n",
              "  </thead>\n",
              "  <tbody>\n",
              "    <tr>\n",
              "      <th>0</th>\n",
              "      <td>1/1/2015</td>\n",
              "      <td>Quarter1</td>\n",
              "      <td>sweing</td>\n",
              "      <td>Thursday</td>\n",
              "      <td>8</td>\n",
              "      <td>0.80</td>\n",
              "      <td>26.16</td>\n",
              "      <td>1108.0</td>\n",
              "      <td>7080</td>\n",
              "      <td>98</td>\n",
              "      <td>0.0</td>\n",
              "      <td>0</td>\n",
              "      <td>0</td>\n",
              "      <td>59.0</td>\n",
              "      <td>0.940725</td>\n",
              "    </tr>\n",
              "    <tr>\n",
              "      <th>1</th>\n",
              "      <td>1/1/2015</td>\n",
              "      <td>Quarter1</td>\n",
              "      <td>finishing</td>\n",
              "      <td>Thursday</td>\n",
              "      <td>1</td>\n",
              "      <td>0.75</td>\n",
              "      <td>3.94</td>\n",
              "      <td>NaN</td>\n",
              "      <td>960</td>\n",
              "      <td>0</td>\n",
              "      <td>0.0</td>\n",
              "      <td>0</td>\n",
              "      <td>0</td>\n",
              "      <td>8.0</td>\n",
              "      <td>0.886500</td>\n",
              "    </tr>\n",
              "    <tr>\n",
              "      <th>2</th>\n",
              "      <td>1/1/2015</td>\n",
              "      <td>Quarter1</td>\n",
              "      <td>sweing</td>\n",
              "      <td>Thursday</td>\n",
              "      <td>11</td>\n",
              "      <td>0.80</td>\n",
              "      <td>11.41</td>\n",
              "      <td>968.0</td>\n",
              "      <td>3660</td>\n",
              "      <td>50</td>\n",
              "      <td>0.0</td>\n",
              "      <td>0</td>\n",
              "      <td>0</td>\n",
              "      <td>30.5</td>\n",
              "      <td>0.800570</td>\n",
              "    </tr>\n",
              "    <tr>\n",
              "      <th>3</th>\n",
              "      <td>1/1/2015</td>\n",
              "      <td>Quarter1</td>\n",
              "      <td>sweing</td>\n",
              "      <td>Thursday</td>\n",
              "      <td>12</td>\n",
              "      <td>0.80</td>\n",
              "      <td>11.41</td>\n",
              "      <td>968.0</td>\n",
              "      <td>3660</td>\n",
              "      <td>50</td>\n",
              "      <td>0.0</td>\n",
              "      <td>0</td>\n",
              "      <td>0</td>\n",
              "      <td>30.5</td>\n",
              "      <td>0.800570</td>\n",
              "    </tr>\n",
              "    <tr>\n",
              "      <th>4</th>\n",
              "      <td>1/1/2015</td>\n",
              "      <td>Quarter1</td>\n",
              "      <td>sweing</td>\n",
              "      <td>Thursday</td>\n",
              "      <td>6</td>\n",
              "      <td>0.80</td>\n",
              "      <td>25.90</td>\n",
              "      <td>1170.0</td>\n",
              "      <td>1920</td>\n",
              "      <td>50</td>\n",
              "      <td>0.0</td>\n",
              "      <td>0</td>\n",
              "      <td>0</td>\n",
              "      <td>56.0</td>\n",
              "      <td>0.800382</td>\n",
              "    </tr>\n",
              "    <tr>\n",
              "      <th>...</th>\n",
              "      <td>...</td>\n",
              "      <td>...</td>\n",
              "      <td>...</td>\n",
              "      <td>...</td>\n",
              "      <td>...</td>\n",
              "      <td>...</td>\n",
              "      <td>...</td>\n",
              "      <td>...</td>\n",
              "      <td>...</td>\n",
              "      <td>...</td>\n",
              "      <td>...</td>\n",
              "      <td>...</td>\n",
              "      <td>...</td>\n",
              "      <td>...</td>\n",
              "      <td>...</td>\n",
              "    </tr>\n",
              "    <tr>\n",
              "      <th>1192</th>\n",
              "      <td>3/11/2015</td>\n",
              "      <td>Quarter2</td>\n",
              "      <td>finishing</td>\n",
              "      <td>Wednesday</td>\n",
              "      <td>10</td>\n",
              "      <td>0.75</td>\n",
              "      <td>2.90</td>\n",
              "      <td>NaN</td>\n",
              "      <td>960</td>\n",
              "      <td>0</td>\n",
              "      <td>0.0</td>\n",
              "      <td>0</td>\n",
              "      <td>0</td>\n",
              "      <td>8.0</td>\n",
              "      <td>0.628333</td>\n",
              "    </tr>\n",
              "    <tr>\n",
              "      <th>1193</th>\n",
              "      <td>3/11/2015</td>\n",
              "      <td>Quarter2</td>\n",
              "      <td>finishing</td>\n",
              "      <td>Wednesday</td>\n",
              "      <td>8</td>\n",
              "      <td>0.70</td>\n",
              "      <td>3.90</td>\n",
              "      <td>NaN</td>\n",
              "      <td>960</td>\n",
              "      <td>0</td>\n",
              "      <td>0.0</td>\n",
              "      <td>0</td>\n",
              "      <td>0</td>\n",
              "      <td>8.0</td>\n",
              "      <td>0.625625</td>\n",
              "    </tr>\n",
              "    <tr>\n",
              "      <th>1194</th>\n",
              "      <td>3/11/2015</td>\n",
              "      <td>Quarter2</td>\n",
              "      <td>finishing</td>\n",
              "      <td>Wednesday</td>\n",
              "      <td>7</td>\n",
              "      <td>0.65</td>\n",
              "      <td>3.90</td>\n",
              "      <td>NaN</td>\n",
              "      <td>960</td>\n",
              "      <td>0</td>\n",
              "      <td>0.0</td>\n",
              "      <td>0</td>\n",
              "      <td>0</td>\n",
              "      <td>8.0</td>\n",
              "      <td>0.625625</td>\n",
              "    </tr>\n",
              "    <tr>\n",
              "      <th>1195</th>\n",
              "      <td>3/11/2015</td>\n",
              "      <td>Quarter2</td>\n",
              "      <td>finishing</td>\n",
              "      <td>Wednesday</td>\n",
              "      <td>9</td>\n",
              "      <td>0.75</td>\n",
              "      <td>2.90</td>\n",
              "      <td>NaN</td>\n",
              "      <td>1800</td>\n",
              "      <td>0</td>\n",
              "      <td>0.0</td>\n",
              "      <td>0</td>\n",
              "      <td>0</td>\n",
              "      <td>15.0</td>\n",
              "      <td>0.505889</td>\n",
              "    </tr>\n",
              "    <tr>\n",
              "      <th>1196</th>\n",
              "      <td>3/11/2015</td>\n",
              "      <td>Quarter2</td>\n",
              "      <td>finishing</td>\n",
              "      <td>Wednesday</td>\n",
              "      <td>6</td>\n",
              "      <td>0.70</td>\n",
              "      <td>2.90</td>\n",
              "      <td>NaN</td>\n",
              "      <td>720</td>\n",
              "      <td>0</td>\n",
              "      <td>0.0</td>\n",
              "      <td>0</td>\n",
              "      <td>0</td>\n",
              "      <td>6.0</td>\n",
              "      <td>0.394722</td>\n",
              "    </tr>\n",
              "  </tbody>\n",
              "</table>\n",
              "<p>1197 rows × 15 columns</p>\n",
              "</div>"
            ],
            "text/plain": [
              "           date   quarter  department        day  team  targeted_productivity  \\\n",
              "0      1/1/2015  Quarter1      sweing   Thursday     8                   0.80   \n",
              "1      1/1/2015  Quarter1  finishing    Thursday     1                   0.75   \n",
              "2      1/1/2015  Quarter1      sweing   Thursday    11                   0.80   \n",
              "3      1/1/2015  Quarter1      sweing   Thursday    12                   0.80   \n",
              "4      1/1/2015  Quarter1      sweing   Thursday     6                   0.80   \n",
              "...         ...       ...         ...        ...   ...                    ...   \n",
              "1192  3/11/2015  Quarter2   finishing  Wednesday    10                   0.75   \n",
              "1193  3/11/2015  Quarter2   finishing  Wednesday     8                   0.70   \n",
              "1194  3/11/2015  Quarter2   finishing  Wednesday     7                   0.65   \n",
              "1195  3/11/2015  Quarter2   finishing  Wednesday     9                   0.75   \n",
              "1196  3/11/2015  Quarter2   finishing  Wednesday     6                   0.70   \n",
              "\n",
              "        smv     wip  over_time  incentive  idle_time  idle_men  \\\n",
              "0     26.16  1108.0       7080         98        0.0         0   \n",
              "1      3.94     NaN        960          0        0.0         0   \n",
              "2     11.41   968.0       3660         50        0.0         0   \n",
              "3     11.41   968.0       3660         50        0.0         0   \n",
              "4     25.90  1170.0       1920         50        0.0         0   \n",
              "...     ...     ...        ...        ...        ...       ...   \n",
              "1192   2.90     NaN        960          0        0.0         0   \n",
              "1193   3.90     NaN        960          0        0.0         0   \n",
              "1194   3.90     NaN        960          0        0.0         0   \n",
              "1195   2.90     NaN       1800          0        0.0         0   \n",
              "1196   2.90     NaN        720          0        0.0         0   \n",
              "\n",
              "      no_of_style_change  no_of_workers  actual_productivity  \n",
              "0                      0           59.0             0.940725  \n",
              "1                      0            8.0             0.886500  \n",
              "2                      0           30.5             0.800570  \n",
              "3                      0           30.5             0.800570  \n",
              "4                      0           56.0             0.800382  \n",
              "...                  ...            ...                  ...  \n",
              "1192                   0            8.0             0.628333  \n",
              "1193                   0            8.0             0.625625  \n",
              "1194                   0            8.0             0.625625  \n",
              "1195                   0           15.0             0.505889  \n",
              "1196                   0            6.0             0.394722  \n",
              "\n",
              "[1197 rows x 15 columns]"
            ]
          },
          "metadata": {
            "tags": []
          },
          "execution_count": 10
        }
      ]
    },
    {
      "cell_type": "code",
      "metadata": {
        "colab": {
          "base_uri": "https://localhost:8080/"
        },
        "id": "aEuzipkgSeDs",
        "outputId": "b7c1201c-48af-438b-8a5e-30f52e3fad43"
      },
      "source": [
        "dataset.describe"
      ],
      "execution_count": 11,
      "outputs": [
        {
          "output_type": "execute_result",
          "data": {
            "text/plain": [
              "<bound method NDFrame.describe of            date   quarter  department        day  team  targeted_productivity  \\\n",
              "0      1/1/2015  Quarter1      sweing   Thursday     8                   0.80   \n",
              "1      1/1/2015  Quarter1  finishing    Thursday     1                   0.75   \n",
              "2      1/1/2015  Quarter1      sweing   Thursday    11                   0.80   \n",
              "3      1/1/2015  Quarter1      sweing   Thursday    12                   0.80   \n",
              "4      1/1/2015  Quarter1      sweing   Thursday     6                   0.80   \n",
              "...         ...       ...         ...        ...   ...                    ...   \n",
              "1192  3/11/2015  Quarter2   finishing  Wednesday    10                   0.75   \n",
              "1193  3/11/2015  Quarter2   finishing  Wednesday     8                   0.70   \n",
              "1194  3/11/2015  Quarter2   finishing  Wednesday     7                   0.65   \n",
              "1195  3/11/2015  Quarter2   finishing  Wednesday     9                   0.75   \n",
              "1196  3/11/2015  Quarter2   finishing  Wednesday     6                   0.70   \n",
              "\n",
              "        smv     wip  over_time  incentive  idle_time  idle_men  \\\n",
              "0     26.16  1108.0       7080         98        0.0         0   \n",
              "1      3.94     NaN        960          0        0.0         0   \n",
              "2     11.41   968.0       3660         50        0.0         0   \n",
              "3     11.41   968.0       3660         50        0.0         0   \n",
              "4     25.90  1170.0       1920         50        0.0         0   \n",
              "...     ...     ...        ...        ...        ...       ...   \n",
              "1192   2.90     NaN        960          0        0.0         0   \n",
              "1193   3.90     NaN        960          0        0.0         0   \n",
              "1194   3.90     NaN        960          0        0.0         0   \n",
              "1195   2.90     NaN       1800          0        0.0         0   \n",
              "1196   2.90     NaN        720          0        0.0         0   \n",
              "\n",
              "      no_of_style_change  no_of_workers  actual_productivity  \n",
              "0                      0           59.0             0.940725  \n",
              "1                      0            8.0             0.886500  \n",
              "2                      0           30.5             0.800570  \n",
              "3                      0           30.5             0.800570  \n",
              "4                      0           56.0             0.800382  \n",
              "...                  ...            ...                  ...  \n",
              "1192                   0            8.0             0.628333  \n",
              "1193                   0            8.0             0.625625  \n",
              "1194                   0            8.0             0.625625  \n",
              "1195                   0           15.0             0.505889  \n",
              "1196                   0            6.0             0.394722  \n",
              "\n",
              "[1197 rows x 15 columns]>"
            ]
          },
          "metadata": {
            "tags": []
          },
          "execution_count": 11
        }
      ]
    },
    {
      "cell_type": "code",
      "metadata": {
        "colab": {
          "base_uri": "https://localhost:8080/"
        },
        "id": "5cu8J4TaShKh",
        "outputId": "68f18331-03d6-48f8-9307-e904d4e39030"
      },
      "source": [
        "dataset.dtypes"
      ],
      "execution_count": 12,
      "outputs": [
        {
          "output_type": "execute_result",
          "data": {
            "text/plain": [
              "date                      object\n",
              "quarter                   object\n",
              "department                object\n",
              "day                       object\n",
              "team                       int64\n",
              "targeted_productivity    float64\n",
              "smv                      float64\n",
              "wip                      float64\n",
              "over_time                  int64\n",
              "incentive                  int64\n",
              "idle_time                float64\n",
              "idle_men                   int64\n",
              "no_of_style_change         int64\n",
              "no_of_workers            float64\n",
              "actual_productivity      float64\n",
              "dtype: object"
            ]
          },
          "metadata": {
            "tags": []
          },
          "execution_count": 12
        }
      ]
    },
    {
      "cell_type": "code",
      "metadata": {
        "colab": {
          "base_uri": "https://localhost:8080/",
          "height": 296
        },
        "id": "hLGR1NQGS9kM",
        "outputId": "a8459a24-4b4c-411c-cf0f-ff0ec64f2f0f"
      },
      "source": [
        "datos = pd.read_csv(\"garments_worker_productivity.csv\")\n",
        "dfwip = datos[[\"date\",\"wip\"]]\n",
        "dfwip.plot.scatter(x=\"date\", y=\"wip\", alpha=1)"
      ],
      "execution_count": 13,
      "outputs": [
        {
          "output_type": "execute_result",
          "data": {
            "text/plain": [
              "<matplotlib.axes._subplots.AxesSubplot at 0x7f0b5540e3d0>"
            ]
          },
          "metadata": {
            "tags": []
          },
          "execution_count": 13
        },
        {
          "output_type": "display_data",
          "data": {
            "image/png": "[encoded data removed]",
            "text/plain": [
              "<Figure size 432x288 with 1 Axes>"
            ]
          },
          "metadata": {
            "tags": [],
            "needs_background": "light"
          }
        }
      ]
    },
    {
      "cell_type": "code",
      "metadata": {
        "colab": {
          "base_uri": "https://localhost:8080/"
        },
        "id": "bTnM-2vrYggj",
        "outputId": "225b9aa5-c8df-4344-d654-5e47804eb5f6"
      },
      "source": [
        "dataset['wip'].isna().sum()/len(dataset['wip'])"
      ],
      "execution_count": 14,
      "outputs": [
        {
          "output_type": "execute_result",
          "data": {
            "text/plain": [
              "0.4227234753550543"
            ]
          },
          "metadata": {
            "tags": []
          },
          "execution_count": 14
        }
      ]
    },
    {
      "cell_type": "code",
      "metadata": {
        "colab": {
          "base_uri": "https://localhost:8080/",
          "height": 295
        },
        "id": "B0aVMf27ZSSt",
        "outputId": "69752358-4cec-4778-cbce-15d9ee5898df"
      },
      "source": [
        "dfwip.describe()"
      ],
      "execution_count": 15,
      "outputs": [
        {
          "output_type": "execute_result",
          "data": {
            "text/html": [
              "<div>\n",
              "<style scoped>\n",
              "    .dataframe tbody tr th:only-of-type {\n",
              "        vertical-align: middle;\n",
              "    }\n",
              "\n",
              "    .dataframe tbody tr th {\n",
              "        vertical-align: top;\n",
              "    }\n",
              "\n",
              "    .dataframe thead th {\n",
              "        text-align: right;\n",
              "    }\n",
              "</style>\n",
              "<table border=\"1\" class=\"dataframe\">\n",
              "  <thead>\n",
              "    <tr style=\"text-align: right;\">\n",
              "      <th></th>\n",
              "      <th>wip</th>\n",
              "    </tr>\n",
              "  </thead>\n",
              "  <tbody>\n",
              "    <tr>\n",
              "      <th>count</th>\n",
              "      <td>691.000000</td>\n",
              "    </tr>\n",
              "    <tr>\n",
              "      <th>mean</th>\n",
              "      <td>1190.465991</td>\n",
              "    </tr>\n",
              "    <tr>\n",
              "      <th>std</th>\n",
              "      <td>1837.455001</td>\n",
              "    </tr>\n",
              "    <tr>\n",
              "      <th>min</th>\n",
              "      <td>7.000000</td>\n",
              "    </tr>\n",
              "    <tr>\n",
              "      <th>25%</th>\n",
              "      <td>774.500000</td>\n",
              "    </tr>\n",
              "    <tr>\n",
              "      <th>50%</th>\n",
              "      <td>1039.000000</td>\n",
              "    </tr>\n",
              "    <tr>\n",
              "      <th>75%</th>\n",
              "      <td>1252.500000</td>\n",
              "    </tr>\n",
              "    <tr>\n",
              "      <th>max</th>\n",
              "      <td>23122.000000</td>\n",
              "    </tr>\n",
              "  </tbody>\n",
              "</table>\n",
              "</div>"
            ],
            "text/plain": [
              "                wip\n",
              "count    691.000000\n",
              "mean    1190.465991\n",
              "std     1837.455001\n",
              "min        7.000000\n",
              "25%      774.500000\n",
              "50%     1039.000000\n",
              "75%     1252.500000\n",
              "max    23122.000000"
            ]
          },
          "metadata": {
            "tags": []
          },
          "execution_count": 15
        }
      ]
    },
    {
      "cell_type": "code",
      "metadata": {
        "colab": {
          "base_uri": "https://localhost:8080/",
          "height": 297
        },
        "id": "KZUD1xmcxq3r",
        "outputId": "47aa041a-0478-4f22-e11c-1b61389a73b2"
      },
      "source": [
        "datos = pd.read_csv(\"garments_worker_productivity.csv\")\n",
        "dfR1 = datos[[\"no_of_workers\",\"smv\"]]\n",
        "dfR1.plot.scatter(x=\"no_of_workers\", y=\"smv\", alpha=1)"
      ],
      "execution_count": 17,
      "outputs": [
        {
          "output_type": "execute_result",
          "data": {
            "text/plain": [
              "<matplotlib.axes._subplots.AxesSubplot at 0x7f0b54dc5110>"
            ]
          },
          "metadata": {
            "tags": []
          },
          "execution_count": 17
        },
        {
          "output_type": "display_data",
          "data": {
            "image/png": "[encoded data removed]",
            "text/plain": [
              "<Figure size 432x288 with 1 Axes>"
            ]
          },
          "metadata": {
            "tags": [],
            "needs_background": "light"
          }
        }
      ]
    }
  ]
}